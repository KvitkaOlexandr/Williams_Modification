{
 "cells": [
  {
   "cell_type": "code",
   "execution_count": 1,
   "metadata": {
    "pycharm": {}
   },
   "outputs": [
    {
     "name": "stdout",
     "output_type": "stream",
     "text": [
      "Enter scenario number: 4\n",
      "Number of cryptic tries: 10\n",
      "Number of bits: 128\n",
      "Number of bits: 4\n",
      "Public key:  (42610934471013507254004134829077597803, 65537, 65538, 65537)  Private key:  (65538, 65537, 16611483052298714007898838503900441385, 42610934471013507254004134829077597803)\n",
      "Encrypted message:  (28261753231280499576718382476510190927, 0, 0.9682544603375722)  Decrypted message:  4\n"
     ]
    }
   ],
   "source": [
    "\n",
    "from demo import Demo\n",
    "\n",
    "scenario = int(input(\"Enter scenario number: \"))\n",
    "number = int(input(\"Number of cryptic tries: \"))\n",
    "nbits = int(input(\"Number of bits: \"))\n",
    "\n",
    "\n",
    "d = Demo(scenario, number, nbits)\n",
    "\n"
   ]
  },
  {
   "cell_type": "code",
   "execution_count": null,
   "metadata": {},
   "outputs": [],
   "source": []
  }
 ],
 "metadata": {
  "kernelspec": {
   "display_name": "Python 3",
   "language": "python",
   "name": "python3"
  },
  "language_info": {
   "codemirror_mode": {
    "name": "ipython",
    "version": 3
   },
   "file_extension": ".py",
   "mimetype": "text/x-python",
   "name": "python",
   "nbconvert_exporter": "python",
   "pygments_lexer": "ipython3",
   "version": "3.6.5"
  }
 },
 "nbformat": 4,
 "nbformat_minor": 1
}
